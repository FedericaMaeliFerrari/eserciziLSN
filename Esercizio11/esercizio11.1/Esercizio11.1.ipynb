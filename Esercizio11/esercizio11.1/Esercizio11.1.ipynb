{
 "cells": [
  {
   "cell_type": "markdown",
   "metadata": {},
   "source": [
    "# ESERCIZIO 11.1\n",
    "\n",
    "L'esercitazione prevedeva solo prendere familiarità con le funzioni appartenenti alle librerie di tensorflow e keras utilizzando il programma (già funzionante) fornitoci.\n",
    "Queste librerie sono utilizzate per creare algoritmi che hanno la capacità di \"imparare\" allenandosi su degli input dati come training per poter poi, dopo essersi allenati, dare direttamente la soluzione ad ogni input che ricevono senza dover eseguire il calcolo. Algoritmi di questo genere sono utilizzati nell'ambito delle reti neurali (es.percettrone, buon modello per approssimare l'attività neuronale), in quanto la loro elasticità li rende degli ottimi candidati per eseguire compiti quali la pattern recognition, sound recognition, o comunque tutti quei compiti che prevedono un continuo adattamento con l'ambiente esterno, in cui dunque l'algoritmo si deve trovare alle prese di \"scegliere\" come agire a seconda dei diversi input ricevuti.\n",
    "\n",
    "Per questa serie di esercitazioni dunque verrà utilizzato come algoritmo per approssimare una rete neurale un percettrone (nb. una rete neurale è composta da n percettroni).\n",
    "Un percettrone riceve in ingresso vari segnali da quelli nel livello (layer) precedente, ad ognuno dà un peso e restituisce il segnale modificato (a seconda della funzione di attivazione) a quelli nel livello successivo.\n",
    "In questo esercizio l'algoritmo viene istruito per generare dei dati secondo la funzione\n",
    "\n",
    "$$\n",
    "    y_i= f(x_i) + \\eta_i,\n",
    "$$\n",
    "\n",
    "con $\\eta_i$ rumore gaussiano. Per imparare i parametri che meglio ottimizzano gli input che gli verranno assegnati prima l'algoritmo verrà allenato su un seti di dati di trainig---> fitterò i dati usati per il trainig in modo da poter fare direttamente delle prevsioni su set di dati nuovi.\n",
    "\n",
    "Quanto notato, dopo aver cambiato alcuni parametri presenti nell'algoritmo, è che aumentando il $\\sigma$ dei dati di training, l'algoritmo ha bisogno di più prove per fare una buona previsione. Ciò si può fare aumentando il numero di epoche (basta aumentarle di poco per avere subito dei buoni risultati) oppure aumentando il numero di dati di training da utilizzare (bisogna aumentarli però in modo significativo per avere un buon riscontro).\n"
   ]
  },
  {
   "cell_type": "code",
   "execution_count": 57,
   "metadata": {},
   "outputs": [
    {
     "data": {
      "image/png": "[encoded data removed]",
      "text/plain": [
       "<Figure size 432x288 with 1 Axes>"
      ]
     },
     "metadata": {
      "needs_background": "light"
     },
     "output_type": "display_data"
    }
   ],
   "source": [
    "import numpy as np\n",
    "import matplotlib.pyplot as plt\n",
    "import tensorflow as tf\n",
    "from tensorflow import keras\n",
    "\n",
    "from tensorflow.keras.models import Sequential\n",
    "from tensorflow.keras.layers import Dense, Activation\n",
    "from tensorflow.keras import backend as K\n",
    "from tensorflow.keras.utils import get_custom_objects\n",
    "\n",
    "# target parameters of f(x) = m*x + b\n",
    "m = 2 # slope\n",
    "b = 1 # intersect\n",
    "\n",
    "# generate training inputs\n",
    "np.random.seed(0)\n",
    "x_train = np.random.uniform(-1, 1, 700)\n",
    "x_valid = np.random.uniform(-1, 1, 100)\n",
    "x_valid.sort()\n",
    "y_target = m * x_valid + b # ideal (target) linear function\n",
    "\n",
    "sigma = 1.0 # noise standard deviation, for the moment it is absent\n",
    "y_train = np.random.normal(m * x_train + b, sigma) # actual measures from which we want to guess regression parameters\n",
    "y_valid = np.random.normal(m * x_valid + b, sigma)\n",
    "\n",
    "\n",
    "# plot training and target dataset\n",
    "plt.plot(x_valid, y_target)\n",
    "plt.scatter(x_valid, y_valid, color='r')\n",
    "plt.grid(True); plt.show()\n",
    "\n"
   ]
  },
  {
   "cell_type": "code",
   "execution_count": 58,
   "metadata": {},
   "outputs": [
    {
     "name": "stdout",
     "output_type": "stream",
     "text": [
      "Model: \"sequential_8\"\n",
      "_________________________________________________________________\n",
      "Layer (type)                 Output Shape              Param #   \n",
      "=================================================================\n",
      "dense_8 (Dense)              (None, 1)                 2         \n",
      "=================================================================\n",
      "Total params: 2\n",
      "Trainable params: 2\n",
      "Non-trainable params: 0\n",
      "_________________________________________________________________\n"
     ]
    }
   ],
   "source": [
    "model = tf.keras.Sequential()\n",
    "model.add(Dense(1, input_shape=(1,)))\n",
    "\n",
    "# compile the model choosing optimizer, loss and metrics objects\n",
    "model.compile(optimizer='sgd', loss='mse', metrics=['mse'])\n",
    "# get a summary of our composed model\n",
    "model.summary()"
   ]
  },
  {
   "cell_type": "code",
   "execution_count": 59,
   "metadata": {},
   "outputs": [
    {
     "name": "stdout",
     "output_type": "stream",
     "text": [
      "Epoch 1/60\n",
      "22/22 [==============================] - 0s 4ms/step - loss: 5.2765 - mse: 5.2765 - val_loss: 4.7606 - val_mse: 4.7606\n",
      "Epoch 2/60\n",
      "22/22 [==============================] - 0s 2ms/step - loss: 3.9386 - mse: 3.9386 - val_loss: 3.6862 - val_mse: 3.6862\n",
      "Epoch 3/60\n",
      "22/22 [==============================] - 0s 3ms/step - loss: 3.0746 - mse: 3.0746 - val_loss: 2.9445 - val_mse: 2.9445\n",
      "Epoch 4/60\n",
      "22/22 [==============================] - 0s 3ms/step - loss: 2.4831 - mse: 2.4831 - val_loss: 2.4089 - val_mse: 2.4089\n",
      "Epoch 5/60\n",
      "22/22 [==============================] - 0s 2ms/step - loss: 2.0650 - mse: 2.0650 - val_loss: 2.0194 - val_mse: 2.0194\n",
      "Epoch 6/60\n",
      "22/22 [==============================] - 0s 2ms/step - loss: 1.7652 - mse: 1.7652 - val_loss: 1.7281 - val_mse: 1.7281\n",
      "Epoch 7/60\n",
      "22/22 [==============================] - 0s 2ms/step - loss: 1.5454 - mse: 1.5454 - val_loss: 1.5101 - val_mse: 1.5101\n",
      "Epoch 8/60\n",
      "22/22 [==============================] - 0s 2ms/step - loss: 1.3836 - mse: 1.3836 - val_loss: 1.3456 - val_mse: 1.3456\n",
      "Epoch 9/60\n",
      "22/22 [==============================] - 0s 2ms/step - loss: 1.2645 - mse: 1.2645 - val_loss: 1.2218 - val_mse: 1.2218\n",
      "Epoch 10/60\n",
      "22/22 [==============================] - 0s 2ms/step - loss: 1.1767 - mse: 1.1767 - val_loss: 1.1286 - val_mse: 1.1286\n",
      "Epoch 11/60\n",
      "22/22 [==============================] - 0s 3ms/step - loss: 1.1120 - mse: 1.1120 - val_loss: 1.0570 - val_mse: 1.0570\n",
      "Epoch 12/60\n",
      "22/22 [==============================] - 0s 3ms/step - loss: 1.0641 - mse: 1.0641 - val_loss: 1.0032 - val_mse: 1.0032\n",
      "Epoch 13/60\n",
      "22/22 [==============================] - 0s 4ms/step - loss: 1.0284 - mse: 1.0284 - val_loss: 0.9620 - val_mse: 0.9620\n",
      "Epoch 14/60\n",
      "22/22 [==============================] - 0s 4ms/step - loss: 1.0019 - mse: 1.0019 - val_loss: 0.9296 - val_mse: 0.9296\n",
      "Epoch 15/60\n",
      "22/22 [==============================] - 0s 4ms/step - loss: 0.9822 - mse: 0.9822 - val_loss: 0.9047 - val_mse: 0.9047\n",
      "Epoch 16/60\n",
      "22/22 [==============================] - 0s 3ms/step - loss: 0.9673 - mse: 0.9673 - val_loss: 0.8860 - val_mse: 0.8860\n",
      "Epoch 17/60\n",
      "22/22 [==============================] - 0s 2ms/step - loss: 0.9569 - mse: 0.9569 - val_loss: 0.8710 - val_mse: 0.8710\n",
      "Epoch 18/60\n",
      "22/22 [==============================] - 0s 2ms/step - loss: 0.9492 - mse: 0.9492 - val_loss: 0.8596 - val_mse: 0.8596\n",
      "Epoch 19/60\n",
      "22/22 [==============================] - 0s 3ms/step - loss: 0.9434 - mse: 0.9434 - val_loss: 0.8503 - val_mse: 0.8503\n",
      "Epoch 20/60\n",
      "22/22 [==============================] - 0s 3ms/step - loss: 0.9390 - mse: 0.9390 - val_loss: 0.8430 - val_mse: 0.8430\n",
      "Epoch 21/60\n",
      "22/22 [==============================] - 0s 3ms/step - loss: 0.9356 - mse: 0.9356 - val_loss: 0.8373 - val_mse: 0.8373\n",
      "Epoch 22/60\n",
      "22/22 [==============================] - 0s 3ms/step - loss: 0.9333 - mse: 0.9333 - val_loss: 0.8331 - val_mse: 0.8331\n",
      "Epoch 23/60\n",
      "22/22 [==============================] - 0s 3ms/step - loss: 0.9317 - mse: 0.9317 - val_loss: 0.8292 - val_mse: 0.8292\n",
      "Epoch 24/60\n",
      "22/22 [==============================] - 0s 2ms/step - loss: 0.9303 - mse: 0.9303 - val_loss: 0.8262 - val_mse: 0.8262\n",
      "Epoch 25/60\n",
      "22/22 [==============================] - 0s 3ms/step - loss: 0.9291 - mse: 0.9291 - val_loss: 0.8239 - val_mse: 0.8239\n",
      "Epoch 26/60\n",
      "22/22 [==============================] - 0s 2ms/step - loss: 0.9284 - mse: 0.9284 - val_loss: 0.8220 - val_mse: 0.8220\n",
      "Epoch 27/60\n",
      "22/22 [==============================] - 0s 2ms/step - loss: 0.9278 - mse: 0.9278 - val_loss: 0.8200 - val_mse: 0.8200\n",
      "Epoch 28/60\n",
      "22/22 [==============================] - 0s 2ms/step - loss: 0.9275 - mse: 0.9275 - val_loss: 0.8188 - val_mse: 0.8188\n",
      "Epoch 29/60\n",
      "22/22 [==============================] - 0s 3ms/step - loss: 0.9271 - mse: 0.9271 - val_loss: 0.8177 - val_mse: 0.8177\n",
      "Epoch 30/60\n",
      "22/22 [==============================] - 0s 3ms/step - loss: 0.9273 - mse: 0.9273 - val_loss: 0.8167 - val_mse: 0.8167\n",
      "Epoch 31/60\n",
      "22/22 [==============================] - 0s 3ms/step - loss: 0.9269 - mse: 0.9269 - val_loss: 0.8162 - val_mse: 0.8162\n",
      "Epoch 32/60\n",
      "22/22 [==============================] - 0s 2ms/step - loss: 0.9270 - mse: 0.9270 - val_loss: 0.8156 - val_mse: 0.8156\n",
      "Epoch 33/60\n",
      "22/22 [==============================] - 0s 2ms/step - loss: 0.9265 - mse: 0.9265 - val_loss: 0.8146 - val_mse: 0.8146\n",
      "Epoch 34/60\n",
      "22/22 [==============================] - 0s 2ms/step - loss: 0.9268 - mse: 0.9268 - val_loss: 0.8145 - val_mse: 0.8145\n",
      "Epoch 35/60\n",
      "22/22 [==============================] - 0s 2ms/step - loss: 0.9266 - mse: 0.9266 - val_loss: 0.8141 - val_mse: 0.8141\n",
      "Epoch 36/60\n",
      "22/22 [==============================] - 0s 3ms/step - loss: 0.9267 - mse: 0.9267 - val_loss: 0.8136 - val_mse: 0.8136\n",
      "Epoch 37/60\n",
      "22/22 [==============================] - 0s 2ms/step - loss: 0.9266 - mse: 0.9266 - val_loss: 0.8137 - val_mse: 0.8137\n",
      "Epoch 38/60\n",
      "22/22 [==============================] - 0s 2ms/step - loss: 0.9264 - mse: 0.9264 - val_loss: 0.8135 - val_mse: 0.8135\n",
      "Epoch 39/60\n",
      "22/22 [==============================] - 0s 2ms/step - loss: 0.9268 - mse: 0.9268 - val_loss: 0.8135 - val_mse: 0.8135\n",
      "Epoch 40/60\n",
      "22/22 [==============================] - 0s 2ms/step - loss: 0.9263 - mse: 0.9263 - val_loss: 0.8135 - val_mse: 0.8135\n",
      "Epoch 41/60\n",
      "22/22 [==============================] - 0s 2ms/step - loss: 0.9267 - mse: 0.9267 - val_loss: 0.8133 - val_mse: 0.8133\n",
      "Epoch 42/60\n",
      "22/22 [==============================] - 0s 2ms/step - loss: 0.9268 - mse: 0.9268 - val_loss: 0.8129 - val_mse: 0.8129\n",
      "Epoch 43/60\n",
      "22/22 [==============================] - 0s 2ms/step - loss: 0.9265 - mse: 0.9265 - val_loss: 0.8131 - val_mse: 0.8131\n",
      "Epoch 44/60\n",
      "22/22 [==============================] - 0s 2ms/step - loss: 0.9262 - mse: 0.9262 - val_loss: 0.8128 - val_mse: 0.8128\n",
      "Epoch 45/60\n",
      "22/22 [==============================] - 0s 2ms/step - loss: 0.9267 - mse: 0.9267 - val_loss: 0.8124 - val_mse: 0.8124\n",
      "Epoch 46/60\n",
      "22/22 [==============================] - 0s 3ms/step - loss: 0.9265 - mse: 0.9265 - val_loss: 0.8122 - val_mse: 0.8122\n",
      "Epoch 47/60\n",
      "22/22 [==============================] - 0s 2ms/step - loss: 0.9267 - mse: 0.9267 - val_loss: 0.8121 - val_mse: 0.8121\n",
      "Epoch 48/60\n",
      "22/22 [==============================] - 0s 2ms/step - loss: 0.9262 - mse: 0.9262 - val_loss: 0.8123 - val_mse: 0.8123\n",
      "Epoch 49/60\n",
      "22/22 [==============================] - 0s 2ms/step - loss: 0.9264 - mse: 0.9264 - val_loss: 0.8122 - val_mse: 0.8122\n",
      "Epoch 50/60\n",
      "22/22 [==============================] - 0s 2ms/step - loss: 0.9266 - mse: 0.9266 - val_loss: 0.8121 - val_mse: 0.8121\n",
      "Epoch 51/60\n",
      "22/22 [==============================] - 0s 2ms/step - loss: 0.9269 - mse: 0.9269 - val_loss: 0.8120 - val_mse: 0.8120\n",
      "Epoch 52/60\n",
      "22/22 [==============================] - 0s 2ms/step - loss: 0.9263 - mse: 0.9263 - val_loss: 0.8121 - val_mse: 0.8121\n",
      "Epoch 53/60\n",
      "22/22 [==============================] - 0s 2ms/step - loss: 0.9267 - mse: 0.9267 - val_loss: 0.8124 - val_mse: 0.8124\n",
      "Epoch 54/60\n",
      "22/22 [==============================] - 0s 2ms/step - loss: 0.9265 - mse: 0.9265 - val_loss: 0.8124 - val_mse: 0.8124\n",
      "Epoch 55/60\n",
      "22/22 [==============================] - 0s 2ms/step - loss: 0.9266 - mse: 0.9266 - val_loss: 0.8124 - val_mse: 0.8124\n",
      "Epoch 56/60\n",
      "22/22 [==============================] - 0s 2ms/step - loss: 0.9262 - mse: 0.9262 - val_loss: 0.8123 - val_mse: 0.8123\n",
      "Epoch 57/60\n",
      "22/22 [==============================] - 0s 2ms/step - loss: 0.9263 - mse: 0.9263 - val_loss: 0.8120 - val_mse: 0.8120\n",
      "Epoch 58/60\n",
      "22/22 [==============================] - 0s 2ms/step - loss: 0.9266 - mse: 0.9266 - val_loss: 0.8122 - val_mse: 0.8122\n",
      "Epoch 59/60\n",
      "22/22 [==============================] - 0s 2ms/step - loss: 0.9263 - mse: 0.9263 - val_loss: 0.8125 - val_mse: 0.8125\n",
      "Epoch 60/60\n",
      "22/22 [==============================] - 0s 2ms/step - loss: 0.9263 - mse: 0.9263 - val_loss: 0.8121 - val_mse: 0.8121\n"
     ]
    }
   ],
   "source": [
    "# fit the model using training dataset\n",
    "# over 10 epochs of 32 batch size each\n",
    "# report training progress against validation data\n",
    "history = model.fit(x=x_train, y=y_train, \n",
    "          batch_size=32, epochs=60,\n",
    "          shuffle=True, # a good idea is to shuffle input before at each epoch\n",
    "          validation_data=(x_valid, y_valid))"
   ]
  },
  {
   "cell_type": "code",
   "execution_count": 60,
   "metadata": {},
   "outputs": [
    {
     "data": {
      "text/plain": [
       "[array([[1.9991093]], dtype=float32), array([1.00972], dtype=float32)]"
      ]
     },
     "execution_count": 60,
     "metadata": {},
     "output_type": "execute_result"
    }
   ],
   "source": [
    "# return weights\n",
    "model.get_weights()\n"
   ]
  },
  {
   "cell_type": "code",
   "execution_count": 61,
   "metadata": {},
   "outputs": [
    {
     "name": "stdout",
     "output_type": "stream",
     "text": [
      "4/4 [==============================] - 0s 1ms/step - loss: 0.8121 - mse: 0.8121\n",
      "\n",
      "Test loss: 0.812081515789032\n",
      "Test accuracy: 0.812081515789032\n"
     ]
    }
   ],
   "source": [
    "# evaluate model\n",
    "score = model.evaluate(x_valid, y_valid, batch_size=32, verbose=1)\n",
    "\n",
    "# print performance\n",
    "print()\n",
    "print('Test loss:', score[0])\n",
    "print('Test accuracy:', score[1])"
   ]
  },
  {
   "cell_type": "code",
   "execution_count": 62,
   "metadata": {},
   "outputs": [
    {
     "name": "stdout",
     "output_type": "stream",
     "text": [
      "4/4 [==============================] - 0s 1ms/step - loss: 9.5850e-05 - mse: 9.5850e-05\n",
      "\n",
      "Test loss: 9.585019870428368e-05\n",
      "Test accuracy: 9.585019870428368e-05\n"
     ]
    }
   ],
   "source": [
    "# evaluate model with the exact curve\n",
    "score = model.evaluate(x_valid, y_target, batch_size=32, verbose=1)\n",
    "\n",
    "# print performance\n",
    "print()\n",
    "print('Test loss:', score[0])\n",
    "print('Test accuracy:', score[1])"
   ]
  },
  {
   "cell_type": "code",
   "execution_count": 63,
   "metadata": {},
   "outputs": [
    {
     "data": {
      "image/png": "[encoded data removed]",
      "text/plain": [
       "<Figure size 432x288 with 1 Axes>"
      ]
     },
     "metadata": {
      "needs_background": "light"
     },
     "output_type": "display_data"
    },
    {
     "data": {
      "image/png": "[encoded data removed]",
      "text/plain": [
       "<Figure size 432x288 with 1 Axes>"
      ]
     },
     "metadata": {
      "needs_background": "light"
     },
     "output_type": "display_data"
    }
   ],
   "source": [
    "# look into training history\n",
    "# Plot training & validation loss values\n",
    "plt.plot(history.history['loss'])\n",
    "plt.plot(history.history['val_loss'])\n",
    "plt.title('Model loss')\n",
    "plt.ylabel('Loss')\n",
    "plt.xlabel('Epoch')\n",
    "plt.legend(['Train', 'Test'], loc='best')\n",
    "plt.show()\n",
    "\n",
    "x_predicted = np.random.uniform(-1, 1, 100)\n",
    "y_predicted = model.predict(x_predicted)\n",
    "plt.scatter(x_predicted, y_predicted,color='r')\n",
    "plt.plot(x_valid, y_target)\n",
    "plt.grid(True)\n",
    "plt.show()"
   ]
  },
  {
   "cell_type": "code",
   "execution_count": null,
   "metadata": {},
   "outputs": [],
   "source": []
  }
 ],
 "metadata": {
  "kernelspec": {
   "display_name": "Python 3",
   "language": "python",
   "name": "python3"
  },
  "language_info": {
   "codemirror_mode": {
    "name": "ipython",
    "version": 3
   },
   "file_extension": ".py",
   "mimetype": "text/x-python",
   "name": "python",
   "nbconvert_exporter": "python",
   "pygments_lexer": "ipython3",
   "version": "3.7.4"
  }
 },
 "nbformat": 4,
 "nbformat_minor": 2
}
