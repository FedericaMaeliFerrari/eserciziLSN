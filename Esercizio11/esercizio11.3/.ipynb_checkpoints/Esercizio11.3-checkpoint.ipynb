{
 "cells": [
  {
   "cell_type": "code",
   "execution_count": 1,
   "metadata": {},
   "outputs": [],
   "source": [
    "import numpy as np\n",
    "import matplotlib.pyplot as plt\n",
    "from mpl_toolkits.mplot3d import Axes3D\n",
    "import tensorflow as tf\n",
    "from tensorflow import keras\n",
    "\n",
    "from tensorflow.keras.models import Sequential\n",
    "from tensorflow.keras.layers import Dense, Activation, Dropout\n",
    "from tensorflow.keras import backend as K\n",
    "from tensorflow.keras.utils import get_custom_objects\n",
    "\n",
    "# funzione usata per fit è  f(x,y) = sin(x^2+y^2)\n",
    "np.random.seed(0)\n",
    "x_train = np.random.uniform(-1.5, 1.5, 5000)\n",
    "x_valid = np.random.uniform(-1.5, 1.5, 500)\n",
    "y_train = np.random.uniform(-1.5, 1.5, 5000)\n",
    "y_valid = np.random.uniform(-1.5, 1.5, 500)\n",
    "x_valid.sort()\n",
    "y_valid.sort()\n",
    "f_target = np.sin(pow(x_valid,2)+pow(y_valid,2)) # ideal (target) linear function\n",
    "\n",
    "sigma = 0.0 # noise standard deviation, for the moment it is absent\n",
    "f_train = np.random.normal(np.sin(pow(x_train,2)+pow(y_train,2)) , sigma) # actual measures from which we want to guess regression parameters\n",
    "f_valid = np.random.normal(np.sin(pow(x_valid,2)+pow(y_valid,2)) , sigma)\n",
    "\n",
    "# plot training and target dataset\n",
    "fig = plt.figure()\n",
    "ax = Axes3D(fig)\n"
   ]
  },
  {
   "cell_type": "code",
   "execution_count": null,
   "metadata": {},
   "outputs": [],
   "source": []
  }
 ],
 "metadata": {
  "kernelspec": {
   "display_name": "Python 3",
   "language": "python",
   "name": "python3"
  },
  "language_info": {
   "codemirror_mode": {
    "name": "ipython",
    "version": 3
   },
   "file_extension": ".py",
   "mimetype": "text/x-python",
   "name": "python",
   "nbconvert_exporter": "python",
   "pygments_lexer": "ipython3",
   "version": "3.7.4"
  }
 },
 "nbformat": 4,
 "nbformat_minor": 2
}
