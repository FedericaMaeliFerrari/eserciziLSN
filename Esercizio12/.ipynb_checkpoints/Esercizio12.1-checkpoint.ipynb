{
 "cells": [
  {
   "cell_type": "markdown",
   "metadata": {},
   "source": [
    "# Esercizio 12.1\n",
    "In questa lezione abbiamo utilizzato la libreria Keras di python per creare una CNN (rete neurale convoluzionale) che esegua OCR (optical character recognition). <br>\n",
    "Una CNN è una rete neurale le cui proprietà rimangono invariate per traslazioni e utilizza layer bidimensionali. <br>\n",
    "La rete prende in ingresso un immagine in scala di grigi di 28x28 pixel e restituisce un numero da 0 a 9 corrispondente al carattere rappresentato nell'immagine.<br>\n",
    "I layer di tipo pool servono a ridurre la dimensione del problema: un max-pooling di 4 dati (2x2) ad esempio dà in output un solo dato, il massimo tra i 4 in ingresso.\n",
    "\n",
    "Ho utilizzato diversi tipi di ottimizzatori, che servono ad adattare i pesi alle risposte che si susseguono durante il training per ciascun layer.\n",
    "Gli ottimizzatori utilizzati sono:\n",
    "MODELLO 1--> SGD,ottimizzatore standard stocastic\n",
    "MODELLO 2--> ADAM, ottimizza il peso come SGD ma sviluppando fino al secondo ordine\n",
    "MODELLO 3--> ADADELTA, il peso per ogni parametro viene adattato a seconda di quante volte esso è frequente durante la simulazione"
   ]
  },
  {
   "cell_type": "code",
   "execution_count": 30,
   "metadata": {},
   "outputs": [
    {
     "name": "stdout",
     "output_type": "stream",
     "text": [
      "X_train shape: (60000, 28, 28)\n",
      "Y_train shape: (60000,)\n",
      "\n",
      "60000 train samples\n",
      "10000 test samples\n"
     ]
    }
   ],
   "source": [
    "import tensorflow as tf\n",
    "from tensorflow import keras\n",
    "from keras.datasets import mnist\n",
    "import os\n",
    "import numpy as np\n",
    "import matplotlib.pyplot as plt\n",
    "seed=0\n",
    "np.random.seed(seed) # fix random seed\n",
    "tf.random.set_seed(seed)\n",
    "\n",
    "# input image dimensions\n",
    "img_rows, img_cols = 28, 28 # number of pixels \n",
    "# output\n",
    "num_classes = 10 # 10 digits\n",
    "\n",
    "# the data, split between train and test sets\n",
    "(X_train, Y_train), (X_test, Y_test) = mnist.load_data()\n",
    "\n",
    "print('X_train shape:', X_train.shape)\n",
    "print('Y_train shape:', Y_train.shape)\n",
    "print()\n",
    "print(X_train.shape[0], 'train samples')\n",
    "print(X_test.shape[0], 'test samples')\n",
    "\n",
    "      "
   ]
  },
  {
   "cell_type": "code",
   "execution_count": 31,
   "metadata": {},
   "outputs": [
    {
     "name": "stdout",
     "output_type": "stream",
     "text": [
      "an example of a data point with label 4\n"
     ]
    },
    {
     "data": {
      "image/png": "[encoded data removed]",
      "text/plain": [
       "<Figure size 288x288 with 1 Axes>"
      ]
     },
     "metadata": {
      "needs_background": "light"
     },
     "output_type": "display_data"
    },
    {
     "name": "stdout",
     "output_type": "stream",
     "text": [
      "an example of a data point with label 4 before to_categorical ...\n",
      "... and with label [0. 0. 0. 0. 1. 0. 0. 0. 0. 0.] after to_categorical\n",
      "\n",
      "X_train shape: (60000, 784)\n",
      "Y_train shape: (60000, 10)\n"
     ]
    }
   ],
   "source": [
    "# reshape data, it could depend on Keras backend\n",
    "X_train = X_train.reshape(X_train.shape[0], img_rows*img_cols)\n",
    "X_test = X_test.reshape(X_test.shape[0], img_rows*img_cols)\n",
    "\n",
    "# cast floats to single precesion\n",
    "X_train = X_train.astype('float32')\n",
    "X_test = X_test.astype('float32')\n",
    "\n",
    "# rescale data in interval [0,1]\n",
    "X_train /= 255\n",
    "X_test /= 255\n",
    "\n",
    "# look at an example of data point\n",
    "print('an example of a data point with label', Y_train[20])\n",
    "# matshow: display a matrix in a new figure window\n",
    "plt.matshow(X_train[20,:].reshape(28,28),cmap='binary')\n",
    "plt.show()\n",
    "\n",
    "print('an example of a data point with label', Y_train[20], 'before to_categorical ...')\n",
    "# convert class vectors to binary class matrices, e.g. for use with categorical_crossentropy\n",
    "Y_train = keras.utils.to_categorical(Y_train, num_classes)\n",
    "Y_test = keras.utils.to_categorical(Y_test, num_classes)\n",
    "print('... and with label', Y_train[20], 'after to_categorical')\n",
    "print()\n",
    "print('X_train shape:', X_train.shape)\n",
    "print('Y_train shape:', Y_train.shape)"
   ]
  },
  {
   "cell_type": "code",
   "execution_count": 32,
   "metadata": {},
   "outputs": [
    {
     "name": "stdout",
     "output_type": "stream",
     "text": [
      "Model architecture created successfully!\n"
     ]
    }
   ],
   "source": [
    "from keras.models import Sequential\n",
    "from keras.layers import Dense, Dropout\n",
    "\n",
    "\n",
    "def create_DNN():\n",
    "    # instantiate model\n",
    "    model = Sequential()\n",
    "    # add a dense all-to-all relu layer\n",
    "    model.add(Dense(400,input_shape=(img_rows*img_cols,), activation='relu'))\n",
    "    # add a dense all-to-all relu layer\n",
    "    model.add(Dense(100, activation='relu'))\n",
    "    # apply dropout with rate 0.5\n",
    "    model.add(Dropout(0.5))\n",
    "    # soft-max layer\n",
    "    model.add(Dense(num_classes, activation='softmax'))\n",
    "    \n",
    "    return model\n",
    "\n",
    "print('Model architecture created successfully!')"
   ]
  },
  {
   "cell_type": "code",
   "execution_count": 33,
   "metadata": {},
   "outputs": [
    {
     "name": "stdout",
     "output_type": "stream",
     "text": [
      "Model compiled successfully and ready to be trained.\n"
     ]
    }
   ],
   "source": [
    "from keras.optimizers import SGD, Adam, RMSprop, Adagrad, Adadelta, Adam, Adamax, Nadam\n",
    "\n",
    "def compile_model1():\n",
    "    # create the model\n",
    "    model=create_DNN()\n",
    "    # compile the model\n",
    "    model.compile(loss=keras.losses.categorical_crossentropy,\n",
    "                  optimizer=SGD(),\n",
    "                  metrics=['accuracy'])\n",
    "    return model\n",
    "\n",
    "def compile_model2():\n",
    "    # create the model\n",
    "    model=create_DNN()\n",
    "    # compile the model\n",
    "    model.compile(loss=keras.losses.categorical_crossentropy,\n",
    "                  optimizer=Adam(),\n",
    "                  metrics=['accuracy'])\n",
    "    return model\n",
    "\n",
    "def compile_model3():\n",
    "    # create the model\n",
    "    model=create_DNN()\n",
    "    # compile the model\n",
    "    model.compile(loss=keras.losses.categorical_crossentropy,\n",
    "                  optimizer=Adadelta(),\n",
    "                  metrics=['accuracy'])\n",
    "    return model\n",
    "\n",
    "print('Model compiled successfully and ready to be trained.')"
   ]
  },
  {
   "cell_type": "code",
   "execution_count": 36,
   "metadata": {},
   "outputs": [
    {
     "name": "stdout",
     "output_type": "stream",
     "text": [
      "Train on 60000 samples, validate on 10000 samples\n",
      "Epoch 1/5\n",
      "60000/60000 [==============================] - 6s 107us/step - loss: 0.7593 - accuracy: 0.7753 - val_loss: 0.3173 - val_accuracy: 0.9106\n",
      "Epoch 2/5\n",
      "60000/60000 [==============================] - 6s 105us/step - loss: 0.3881 - accuracy: 0.8888 - val_loss: 0.2429 - val_accuracy: 0.9282\n",
      "Epoch 3/5\n",
      "60000/60000 [==============================] - 6s 105us/step - loss: 0.3137 - accuracy: 0.9111 - val_loss: 0.2050 - val_accuracy: 0.9389\n",
      "Epoch 4/5\n",
      "60000/60000 [==============================] - 6s 106us/step - loss: 0.2700 - accuracy: 0.9233 - val_loss: 0.1793 - val_accuracy: 0.9459\n",
      "Epoch 5/5\n",
      "60000/60000 [==============================] - 6s 107us/step - loss: 0.2404 - accuracy: 0.9322 - val_loss: 0.1614 - val_accuracy: 0.9523\n"
     ]
    }
   ],
   "source": [
    "# training parameters\n",
    "batch_size = 32\n",
    "epochs = 5\n",
    "\n",
    "# create the deep neural net\n",
    "model_DNN1 = compile_model1()\n",
    "model_DNN2 = compile_model2()\n",
    "model_DNN3 = compile_model3()\n",
    "\n",
    "# train DNN and store training info in history (modello con ottimizzatore SGD)\n",
    "history = model_DNN1.fit(X_train, Y_train,\n",
    "          batch_size=batch_size,\n",
    "          epochs=epochs,\n",
    "          verbose=1,\n",
    "          validation_data=(X_test, Y_test))\n"
   ]
  },
  {
   "cell_type": "code",
   "execution_count": 34,
   "metadata": {},
   "outputs": [
    {
     "name": "stdout",
     "output_type": "stream",
     "text": [
      "Train on 60000 samples, validate on 10000 samples\n",
      "Epoch 1/5\n",
      "60000/60000 [==============================] - 11s 187us/step - loss: 0.2840 - accuracy: 0.9169 - val_loss: 0.1202 - val_accuracy: 0.9612\n",
      "Epoch 2/5\n",
      "60000/60000 [==============================] - 12s 196us/step - loss: 0.1231 - accuracy: 0.9648 - val_loss: 0.0835 - val_accuracy: 0.9748\n",
      "Epoch 3/5\n",
      "60000/60000 [==============================] - 12s 198us/step - loss: 0.0879 - accuracy: 0.9748 - val_loss: 0.0947 - val_accuracy: 0.9710\n",
      "Epoch 4/5\n",
      "60000/60000 [==============================] - 11s 186us/step - loss: 0.0693 - accuracy: 0.9797 - val_loss: 0.0835 - val_accuracy: 0.9771\n",
      "Epoch 5/5\n",
      "60000/60000 [==============================] - 11s 187us/step - loss: 0.0585 - accuracy: 0.9828 - val_loss: 0.0784 - val_accuracy: 0.9783\n"
     ]
    }
   ],
   "source": [
    "# train DNN and store training info in history2 (modello con ottimizzatore Adam)\n",
    "history2 = model_DNN2.fit(X_train, Y_train,\n",
    "          batch_size=batch_size,\n",
    "          epochs=epochs,\n",
    "          verbose=1,\n",
    "          validation_data=(X_test, Y_test))"
   ]
  },
  {
   "cell_type": "code",
   "execution_count": 35,
   "metadata": {},
   "outputs": [
    {
     "name": "stdout",
     "output_type": "stream",
     "text": [
      "Train on 60000 samples, validate on 10000 samples\n",
      "Epoch 1/5\n",
      "60000/60000 [==============================] - 14s 233us/step - loss: 0.2891 - accuracy: 0.9147 - val_loss: 0.1175 - val_accuracy: 0.9650\n",
      "Epoch 2/5\n",
      "60000/60000 [==============================] - 13s 216us/step - loss: 0.1291 - accuracy: 0.9640 - val_loss: 0.0851 - val_accuracy: 0.9750\n",
      "Epoch 3/5\n",
      "60000/60000 [==============================] - 13s 217us/step - loss: 0.0920 - accuracy: 0.9745 - val_loss: 0.0898 - val_accuracy: 0.9753\n",
      "Epoch 4/5\n",
      "60000/60000 [==============================] - 13s 219us/step - loss: 0.0746 - accuracy: 0.9799 - val_loss: 0.0798 - val_accuracy: 0.9778\n",
      "Epoch 5/5\n",
      "60000/60000 [==============================] - 13s 221us/step - loss: 0.0615 - accuracy: 0.9828 - val_loss: 0.0789 - val_accuracy: 0.9805\n"
     ]
    }
   ],
   "source": [
    "# train DNN and store training info in history3 (modello con ottimizzatore Adadelta)\n",
    "history3 = model_DNN3.fit(X_train, Y_train,\n",
    "          batch_size=batch_size,\n",
    "          epochs=epochs,\n",
    "          verbose=1,\n",
    "          validation_data=(X_test, Y_test))"
   ]
  },
  {
   "cell_type": "markdown",
   "metadata": {},
   "source": [
    "Riporto i grafici delle funzioni di perditre (loss) per i tre modelli al variare delle epoche.\n"
   ]
  },
  {
   "cell_type": "code",
   "execution_count": 38,
   "metadata": {},
   "outputs": [
    {
     "name": "stdout",
     "output_type": "stream",
     "text": [
      "10000/10000 [==============================] - 0s 40us/step\n",
      "10000/10000 [==============================] - 0s 39us/step\n",
      "10000/10000 [==============================] - 0s 41us/step\n",
      "Modello 1 (ottimizzatore SGD)\n",
      "Test loss: 0.16139564060755074\n",
      "Test accuracy: 0.9523000121116638\n",
      "\n",
      "Modello 2 (ottimizzatore ADAM)\n",
      "Test loss: 2.3730887954711912\n",
      "Test accuracy: 0.07410000264644623\n",
      "\n",
      "Modello 3 (ottimizzatore ADADELTA)\n",
      "Test loss: 2.372702444076538\n",
      "Test accuracy: 0.07010000199079514\n",
      "\n"
     ]
    },
    {
     "data": {
      "image/png": "[encoded data removed]",
      "text/plain": [
       "<Figure size 432x288 with 1 Axes>"
      ]
     },
     "metadata": {
      "needs_background": "light"
     },
     "output_type": "display_data"
    },
    {
     "data": {
      "image/png": "[encoded data removed]",
      "text/plain": [
       "<Figure size 432x288 with 1 Axes>"
      ]
     },
     "metadata": {
      "needs_background": "light"
     },
     "output_type": "display_data"
    },
    {
     "data": {
      "image/png": "[encoded data removed]",
      "text/plain": [
       "<Figure size 432x288 with 1 Axes>"
      ]
     },
     "metadata": {
      "needs_background": "light"
     },
     "output_type": "display_data"
    }
   ],
   "source": [
    "# evaluate model\n",
    "score1 = model_DNN1.evaluate(X_test, Y_test, verbose=1)\n",
    "score2 = model_DNN2.evaluate(X_test, Y_test, verbose=1)\n",
    "score3 = model_DNN3.evaluate(X_test, Y_test, verbose=1)\n",
    "# print performance\n",
    "print(\"Modello 1 (ottimizzatore SGD)\")\n",
    "print('Test loss:', score1[0])\n",
    "print('Test accuracy:', score1[1])\n",
    "print()\n",
    "\n",
    "print(\"Modello 2 (ottimizzatore ADAM)\")\n",
    "print('Test loss:', score2[0])\n",
    "print('Test accuracy:', score2[1])\n",
    "print()\n",
    "\n",
    "print(\"Modello 3 (ottimizzatore ADADELTA)\")\n",
    "print('Test loss:', score3[0])\n",
    "print('Test accuracy:', score3[1])\n",
    "print()\n",
    "\n",
    "# summarize history for loss\n",
    "plt.plot(history.history['loss'])\n",
    "plt.plot(history.history['val_loss'])\n",
    "plt.title(\"Modello 1 (SGD)\")\n",
    "plt.ylabel('model loss')\n",
    "plt.xlabel('epoch')\n",
    "plt.legend(['train', 'test'], loc='best')\n",
    "plt.show()\n",
    "\n",
    "plt.plot(history2.history['loss'])\n",
    "plt.plot(history2.history['val_loss'])\n",
    "plt.title(\"Modello 2 (ADAM)\")\n",
    "plt.ylabel('model loss')\n",
    "plt.xlabel('epoch')\n",
    "plt.legend(['train', 'test'], loc='best')\n",
    "plt.show()\n",
    "\n",
    "plt.plot(history3.history['loss'])\n",
    "plt.plot(history3.history['val_loss'])\n",
    "plt.title(\"Modello 3 (ADADELTA)\")\n",
    "plt.ylabel('model loss')\n",
    "plt.xlabel('epoch')\n",
    "plt.legend(['train', 'test'], loc='best')\n",
    "plt.show()"
   ]
  },
  {
   "cell_type": "code",
   "execution_count": null,
   "metadata": {},
   "outputs": [],
   "source": []
  },
  {
   "cell_type": "code",
   "execution_count": null,
   "metadata": {},
   "outputs": [],
   "source": []
  }
 ],
 "metadata": {
  "kernelspec": {
   "display_name": "Python 3",
   "language": "python",
   "name": "python3"
  },
  "language_info": {
   "codemirror_mode": {
    "name": "ipython",
    "version": 3
   },
   "file_extension": ".py",
   "mimetype": "text/x-python",
   "name": "python",
   "nbconvert_exporter": "python",
   "pygments_lexer": "ipython3",
   "version": "3.7.4"
  }
 },
 "nbformat": 4,
 "nbformat_minor": 2
}
